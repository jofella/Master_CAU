{
 "cells": [
  {
   "cell_type": "markdown",
   "metadata": {},
   "source": [
    "## Combining class functionalities with a study grade calculator"
   ]
  },
  {
   "cell_type": "code",
   "execution_count": 210,
   "metadata": {},
   "outputs": [],
   "source": [
    "from datetime import datetime"
   ]
  },
  {
   "cell_type": "code",
   "execution_count": 197,
   "metadata": {},
   "outputs": [],
   "source": [
    "# Defining my subjects\n",
    "\n",
    "class Subject:\n",
    "    num_of_subjects = 0 \n",
    "    \n",
    "    def __init__(self, name, credits, grade=None):\n",
    "        \"\"\"\n",
    "        Initialzing a subject with a name, credits and optional grade\n",
    "\n",
    "        Args:\n",
    "            name (str):                 Simply the name\n",
    "            credits (float):            Amount of credits\n",
    "            grade (float, optional):    Grade reached\n",
    "        \"\"\"\n",
    "        \n",
    "        self.name = name\n",
    "        self.credits = credits\n",
    "        self.grade = grade\n",
    "        Subject.num_of_subjects += 1\n",
    "\n",
    "\n",
    "    def add_grade(self, new_grade):\n",
    "        \"\"\"\n",
    "        Add grade to subject if non existent\n",
    "        \"\"\"\n",
    "        if new_grade not in self.grade:\n",
    "            self.grade.append(new_grade)\n",
    "            \n",
    "    def remove_grade(self, old_grade):\n",
    "        \"\"\"\n",
    "        Remove grade if exsits\n",
    "        \"\"\"\n",
    "        if old_grade not in self.grade:\n",
    "            self.grade.remove(old_grade)\n",
    "        else:\n",
    "            print(f\"Grade {old_grade} not found\")\n",
    "\n",
    "    def print_subject(self):\n",
    "        print(f\"Name: {self.name}, Grade: {self.grade}\")\n",
    "        \n",
    "    \n",
    "    @staticmethod #Indicates: Not dependent on self\n",
    "    def get_average_grade(subjects):\n",
    "        \"\"\"\n",
    "        Calculate average grade: Sum(Credits * Grade)  / Sum(Credits)\n",
    "        \"\"\"\n",
    "        \n",
    "        # For Loop\n",
    "        total_weighted_grade = 0\n",
    "        total_credits = 0\n",
    "        \n",
    "        for subject in subjects:\n",
    "            if subject.grade:\n",
    "                total_weighted_grade += subject.grade * subject.credits\n",
    "                total_credits += subject.credits\n",
    "        \n",
    "        if total_credits == 0:\n",
    "            return None\n",
    "        else:\n",
    "            return total_weighted_grade / total_credits"
   ]
  },
  {
   "cell_type": "code",
   "execution_count": 201,
   "metadata": {},
   "outputs": [],
   "source": [
    "# Define my study plan\n",
    "\n",
    "x1 = Subject('MathFinance', 12.0, 1.7)\n",
    "x2 = Subject('ProbabilityCalculus', 6.0, 2.0)\n",
    "x3 = Subject('Econometrics_1', 6.0)\n",
    "\n",
    "My_Subjects = [x1, x2, x3]"
   ]
  },
  {
   "cell_type": "code",
   "execution_count": 215,
   "metadata": {},
   "outputs": [],
   "source": [
    "# Adding a grade"
   ]
  },
  {
   "cell_type": "code",
   "execution_count": 214,
   "metadata": {},
   "outputs": [
    {
     "name": "stdout",
     "output_type": "stream",
     "text": [
      "Name: MathFinance, Grade: 1.7\n",
      "Name: ProbabilityCalculus, Grade: 2.0\n",
      "Name: Econometrics_1, Grade: None\n"
     ]
    }
   ],
   "source": [
    "# Get subject overview\n",
    "for subject in My_Subjects:\n",
    "    subject.print_subject()"
   ]
  },
  {
   "cell_type": "code",
   "execution_count": 213,
   "metadata": {},
   "outputs": [
    {
     "name": "stdout",
     "output_type": "stream",
     "text": [
      "Your average grade on 2024-04-07 is: 1.8\n"
     ]
    }
   ],
   "source": [
    "# Calculate average\n",
    "\n",
    "date_today = datetime.today().date()\n",
    "average_grade = round(Subject.get_average_grade(My_Subjects), 2)\n",
    "\n",
    "print(f\"Your average grade on {date_today} is: {average_grade}\")"
   ]
  }
 ],
 "metadata": {
  "kernelspec": {
   "display_name": "Python 3",
   "language": "python",
   "name": "python3"
  },
  "language_info": {
   "codemirror_mode": {
    "name": "ipython",
    "version": 3
   },
   "file_extension": ".py",
   "mimetype": "text/x-python",
   "name": "python",
   "nbconvert_exporter": "python",
   "pygments_lexer": "ipython3",
   "version": "3.11.0"
  }
 },
 "nbformat": 4,
 "nbformat_minor": 2
}
