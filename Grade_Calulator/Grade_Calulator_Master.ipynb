{
 "cells": [
  {
   "cell_type": "markdown",
   "metadata": {},
   "source": [
    "## Combining class functionalities with a study grade calculator"
   ]
  },
  {
   "cell_type": "code",
   "execution_count": 116,
   "metadata": {},
   "outputs": [],
   "source": [
    "# Defining classes\n",
    "\n",
    "class Subject:\n",
    "    num_of_subjects = 0 \n",
    "    \n",
    "    def __init__(self, name, credits, grade=None):\n",
    "        \n",
    "        self.name = name\n",
    "        self.credits = credits\n",
    "        if grade is None:\n",
    "            self.grade = []\n",
    "        else:\n",
    "            self.grade = grade\n",
    "\n",
    "    \n",
    "        Subject.num_of_subjects += 1\n",
    "    \n",
    "    # Adding grades\n",
    "    def add_grade(self, new_grade):\n",
    "        if new_grade not in self.grade:\n",
    "            self.grade.append(new_grade)\n",
    "            \n",
    "    # Removing grades\n",
    "    def remove_grade(self, old_grade):\n",
    "        if old_grade not in self.grade:\n",
    "            self.grade.remove(old_grade)\n",
    "\n",
    "def print_all_subjects(self, subjects):\n",
    "    for subject in subjects:\n",
    "        print(f\"Name ---> {subject.name},{subject.grade}\")"
   ]
  },
  {
   "cell_type": "code",
   "execution_count": 114,
   "metadata": {},
   "outputs": [],
   "source": [
    "# Set Study Plan\n",
    "\n",
    "x1 = Subject('MathFinance', 12.0)\n",
    "x2 = Subject('ProbabilityCalculus', 6.0)\n",
    "\n",
    "My_Subjects = [x1, x2]"
   ]
  },
  {
   "cell_type": "code",
   "execution_count": 117,
   "metadata": {},
   "outputs": [
    {
     "ename": "AttributeError",
     "evalue": "'Subject' object has no attribute 'print_all_subjects'",
     "output_type": "error",
     "traceback": [
      "\u001b[1;31m---------------------------------------------------------------------------\u001b[0m",
      "\u001b[1;31mAttributeError\u001b[0m                            Traceback (most recent call last)",
      "Cell \u001b[1;32mIn[117], line 3\u001b[0m\n\u001b[0;32m      1\u001b[0m \u001b[38;5;66;03m# Test\u001b[39;00m\n\u001b[1;32m----> 3\u001b[0m \u001b[43mx1\u001b[49m\u001b[38;5;241;43m.\u001b[39;49m\u001b[43mprint_all_subjects\u001b[49m(My_Subjects)\n",
      "\u001b[1;31mAttributeError\u001b[0m: 'Subject' object has no attribute 'print_all_subjects'"
     ]
    }
   ],
   "source": [
    "# Test\n",
    "\n",
    "x1.print_all_subjects(My_Subjects)"
   ]
  },
  {
   "cell_type": "markdown",
   "metadata": {},
   "source": [
    "#### Youtube Example"
   ]
  },
  {
   "cell_type": "code",
   "execution_count": null,
   "metadata": {},
   "outputs": [],
   "source": [
    "class Employee: \n",
    "    num_of_employees = 0\n",
    "    raise"
   ]
  }
 ],
 "metadata": {
  "kernelspec": {
   "display_name": "Python 3",
   "language": "python",
   "name": "python3"
  },
  "language_info": {
   "codemirror_mode": {
    "name": "ipython",
    "version": 3
   },
   "file_extension": ".py",
   "mimetype": "text/x-python",
   "name": "python",
   "nbconvert_exporter": "python",
   "pygments_lexer": "ipython3",
   "version": "3.11.0"
  }
 },
 "nbformat": 4,
 "nbformat_minor": 2
}
