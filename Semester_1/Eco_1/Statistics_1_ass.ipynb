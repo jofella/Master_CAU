{
 "cells": [
  {
   "cell_type": "code",
   "execution_count": 6,
   "metadata": {},
   "outputs": [],
   "source": [
    "import random"
   ]
  },
  {
   "cell_type": "code",
   "execution_count": 30,
   "metadata": {},
   "outputs": [],
   "source": [
    "# My four containers\n",
    "letters_lst =[\"a\",\"b\",\"c\",\"d\",\"e\",\"f\",\"g\",\"h\",\"i\",\"j\",\"k\",\"l\",\"m\",\"n\",\"o\",\"p\",\"q\",\"r\",\"s\",\"t\",\"u\",\"v\",\"w\",\"x\",\"y\",\"z\"]\n",
    "letters_upper_lst = [letters_lst.upper() for letters_lst in letters_lst]\n",
    "numbers_lst = list(range(0,10))\n",
    "specials_lst = [\"$\", \"%\", \"&\", \"/\", \"(\", \")\"]\n",
    "\n",
    "\n",
    "# Joint List for equal probability\n",
    "lst = [letters_lst, letters_upper_lst, numbers_lst, specials_lst]"
   ]
  },
  {
   "cell_type": "code",
   "execution_count": 203,
   "metadata": {},
   "outputs": [
    {
     "name": "stdout",
     "output_type": "stream",
     "text": [
      "5Zj)\n"
     ]
    }
   ],
   "source": [
    "# Check boxes\n",
    "output = []\n",
    "check_lst = [0] * 4\n",
    "control_lst = [1] * 4\n",
    "\n",
    "length_p = 4\n",
    "\n",
    "while check_lst != control_lst:\n",
    "    for x in range(length_p):\n",
    "        # Randomized seed\n",
    "        number = random.randrange(0, len(lst))\n",
    "        random_lst_selector = number\n",
    "        max_lst_length = len(lst[random_lst_selector])\n",
    "        random_element_selector = random.randrange(0, max_lst_length)\n",
    "        \n",
    "        # Pulling elements\n",
    "        pulled_lst = lst[random_lst_selector]\n",
    "        pulled_element = pulled_lst[random_element_selector]\n",
    "        \n",
    "        # Saving combination\n",
    "        check_lst[random_lst_selector] = 1\n",
    "        # \n",
    "        # Storing results\n",
    "        output.append(pulled_element)\n",
    "    \n",
    "    # Output\n",
    "    if check_lst == control_lst:\n",
    "        final_password = ''.join(map(str, output))\n",
    "        print(final_password)\n",
    "        \n",
    "    else:\n",
    "        check_lst = [0] * 4\n",
    "        output = []"
   ]
  },
  {
   "cell_type": "code",
   "execution_count": 223,
   "metadata": {},
   "outputs": [
    {
     "ename": "AttributeError",
     "evalue": "'int' object has no attribute 'isdigit'",
     "output_type": "error",
     "traceback": [
      "\u001b[1;31m---------------------------------------------------------------------------\u001b[0m",
      "\u001b[1;31mAttributeError\u001b[0m                            Traceback (most recent call last)",
      "Cell \u001b[1;32mIn[223], line 14\u001b[0m\n\u001b[0;32m     10\u001b[0m check_lst\n\u001b[0;32m     12\u001b[0m p_length \u001b[38;5;241m=\u001b[39m \u001b[38;5;241m5\u001b[39m\n\u001b[1;32m---> 14\u001b[0m \u001b[43mp_length\u001b[49m\u001b[38;5;241;43m.\u001b[39;49m\u001b[43misdigit\u001b[49m()\n",
      "\u001b[1;31mAttributeError\u001b[0m: 'int' object has no attribute 'isdigit'"
     ]
    }
   ],
   "source": [
    "random_lst_selector = random.randrange(0, len(lst))\n",
    "max_lst_lenght = len(lst[number])\n",
    "random_element_selector = random.randrange(0, max_lst_lenght - 1)\n",
    "random_element_selector\n",
    "\n",
    "check_lst = [0] * 4\n",
    "\n",
    "\n",
    "check_lst[random_lst_selector] = 1\n",
    "check_lst\n",
    "\n",
    "p_length = 5\n",
    "\n",
    "p_length.isdigit()"
   ]
  },
  {
   "cell_type": "code",
   "execution_count": 226,
   "metadata": {},
   "outputs": [],
   "source": [
    "# Building Function with Boolean check\n",
    "\n",
    "def password_generator(p_lenght, special):\n",
    "    \n",
    "    # Input check\n",
    "    if type(p_lenght) is not int:\n",
    "        print(f\"Number of symbols must be a positive integer!\")\n",
    "        return\n",
    "    \n",
    "    elif p_lenght < 4:\n",
    "        print(\"Password must be at least of length 4!\")\n",
    "        return\n",
    "    else:\n",
    "        \n",
    "        # Containers with elementss\n",
    "        letters_lst =[\"a\",\"b\",\"c\",\"d\",\"e\",\"f\",\"g\",\"h\",\"i\",\"j\",\"k\",\"l\",\"m\",\"n\",\"o\",\"p\",\"q\",\"r\",\"s\",\"t\",\"u\",\"v\",\"w\",\"x\",\"y\",\"z\"]\n",
    "        letters_upper_lst = [letters_lst.upper() for letters_lst in letters_lst]\n",
    "        numbers_lst = list(range(0,10))\n",
    "        specials_lst = [\"$\", \"%\", \"&\", \"/\", \"(\", \")\"]\n",
    "        \n",
    "        lst = [letters_lst, letters_upper_lst, numbers_lst, specials_lst]\n",
    "        \n",
    "        # Checking Lists\n",
    "        output = []\n",
    "        check_lst = [0] * 4\n",
    "        control_lst = [1] * 4\n",
    "        \n",
    "        \n",
    "        while check_lst != control_lst:\n",
    "            for x in range(p_lenght):\n",
    "                # Randomized seed\n",
    "                number = random.randrange(0, len(lst))\n",
    "                random_lst_selector = number\n",
    "                max_lst_length = len(lst[random_lst_selector])\n",
    "                random_element_selector = random.randrange(0, max_lst_length)\n",
    "                \n",
    "                # Pulling elements\n",
    "                pulled_lst = lst[random_lst_selector]\n",
    "                pulled_element = pulled_lst[random_element_selector]\n",
    "                \n",
    "                # Saving combination\n",
    "                check_lst[random_lst_selector] = 1\n",
    "                # \n",
    "                # Storing results\n",
    "                output.append(pulled_element)\n",
    "            \n",
    "            # Output\n",
    "            if check_lst == control_lst:\n",
    "                final_password = ''.join(map(str, output))\n",
    "                print(final_password)\n",
    "                \n",
    "            else:\n",
    "                check_lst = [0] * 4\n",
    "                output = []"
   ]
  },
  {
   "cell_type": "code",
   "execution_count": 232,
   "metadata": {},
   "outputs": [
    {
     "name": "stdout",
     "output_type": "stream",
     "text": [
      "Password must be at least of length 4!\n"
     ]
    }
   ],
   "source": [
    "password_generator(3,True)"
   ]
  }
 ],
 "metadata": {
  "kernelspec": {
   "display_name": "Python 3",
   "language": "python",
   "name": "python3"
  },
  "language_info": {
   "codemirror_mode": {
    "name": "ipython",
    "version": 3
   },
   "file_extension": ".py",
   "mimetype": "text/x-python",
   "name": "python",
   "nbconvert_exporter": "python",
   "pygments_lexer": "ipython3",
   "version": "3.11.0"
  }
 },
 "nbformat": 4,
 "nbformat_minor": 2
}
