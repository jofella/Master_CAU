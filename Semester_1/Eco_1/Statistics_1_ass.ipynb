{
 "cells": [
  {
   "cell_type": "code",
   "execution_count": 6,
   "metadata": {},
   "outputs": [],
   "source": [
    "import random"
   ]
  },
  {
   "cell_type": "code",
   "execution_count": 30,
   "metadata": {},
   "outputs": [],
   "source": [
    "# My four containers\n",
    "letters_lst =[\"a\",\"b\",\"c\",\"d\",\"e\",\"f\",\"g\",\"h\",\"i\",\"j\",\"k\",\"l\",\"m\",\"n\",\"o\",\"p\",\"q\",\"r\",\"s\",\"t\",\"u\",\"v\",\"w\",\"x\",\"y\",\"z\"]\n",
    "letters_upper_lst = [letters_lst.upper() for letters_lst in letters_lst]\n",
    "numbers_lst = list(range(0,10))\n",
    "specials_lst = [\"$\", \"%\", \"&\", \"/\", \"(\", \")\"]\n",
    "\n",
    "\n",
    "# Joint List for equal probability\n",
    "lst = [letters_lst, letters_upper_lst, numbers_lst, specials_lst]"
   ]
  },
  {
   "cell_type": "code",
   "execution_count": 203,
   "metadata": {},
   "outputs": [
    {
     "name": "stdout",
     "output_type": "stream",
     "text": [
      "5Zj)\n"
     ]
    }
   ],
   "source": [
    "# Check boxes\n",
    "output = []\n",
    "check_lst = [0] * 4\n",
    "control_lst = [1] * 4\n",
    "\n",
    "length_p = 4\n",
    "\n",
    "while check_lst != control_lst:\n",
    "    for x in range(length_p):\n",
    "        # Randomized seed\n",
    "        number = random.randrange(0, len(lst))\n",
    "        random_lst_selector = number\n",
    "        max_lst_length = len(lst[random_lst_selector])\n",
    "        random_element_selector = random.randrange(0, max_lst_length)\n",
    "        \n",
    "        # Pulling elements\n",
    "        pulled_lst = lst[random_lst_selector]\n",
    "        pulled_element = pulled_lst[random_element_selector]\n",
    "        \n",
    "        # Saving combination\n",
    "        check_lst[random_lst_selector] = 1\n",
    "        # \n",
    "        # Storing results\n",
    "        output.append(pulled_element)\n",
    "    \n",
    "    # Output\n",
    "    if check_lst == control_lst:\n",
    "        final_password = ''.join(map(str, output))\n",
    "        print(final_password)\n",
    "        \n",
    "    else:\n",
    "        check_lst = [0] * 4\n",
    "        output = []"
   ]
  },
  {
   "cell_type": "code",
   "execution_count": 236,
   "metadata": {},
   "outputs": [],
   "source": [
    "# Building Function with Boolean check\n",
    "\n",
    "def password_generator(p_lenght, special):\n",
    "    \n",
    "    # Input check\n",
    "    if type(p_lenght) is not int:\n",
    "        print(f\"Number of symbols must be a positive integer!\")\n",
    "        return\n",
    "    \n",
    "    elif p_lenght < 4:\n",
    "        print(\"Password must be at least of length 4!\")\n",
    "        return\n",
    "    else:\n",
    "        \n",
    "        # Containers with elementss\n",
    "        letters_lst =[\"a\",\"b\",\"c\",\"d\",\"e\",\"f\",\"g\",\"h\",\"i\",\"j\",\"k\",\"l\",\"m\",\"n\",\"o\",\"p\",\"q\",\"r\",\"s\",\"t\",\"u\",\"v\",\"w\",\"x\",\"y\",\"z\"]\n",
    "        letters_upper_lst = [letters_lst.upper() for letters_lst in letters_lst]\n",
    "        numbers_lst = list(range(0,10))\n",
    "        specials_lst = [\"$\", \"%\", \"&\", \"/\", \"(\", \")\"]\n",
    "        \n",
    "        lst = [letters_lst, letters_upper_lst, numbers_lst, specials_lst]\n",
    "        \n",
    "        # Checking Lists\n",
    "        output = []\n",
    "        check_lst = [0] * 4\n",
    "        control_lst = [1] * 4\n",
    "        \n",
    "        \n",
    "        while check_lst != control_lst:\n",
    "            for x in range(p_lenght):\n",
    "                # Randomized seed\n",
    "                number = random.randrange(0, len(lst))\n",
    "                random_lst_selector = number\n",
    "                max_lst_length = len(lst[random_lst_selector])\n",
    "                random_element_selector = random.randrange(0, max_lst_length)\n",
    "                \n",
    "                # Pulling elements\n",
    "                pulled_lst = lst[random_lst_selector]\n",
    "                pulled_element = pulled_lst[random_element_selector]\n",
    "                \n",
    "                # Saving combination\n",
    "                check_lst[random_lst_selector] = 1\n",
    "                # \n",
    "                # Storing results\n",
    "                output.append(pulled_element)\n",
    "            \n",
    "            # Output\n",
    "            if check_lst == control_lst:\n",
    "                final_password = ''.join(map(str, output))\n",
    "                \n",
    "                \n",
    "                return final_password\n",
    "                \n",
    "            \n",
    "            \n",
    "            else:\n",
    "                check_lst = [0] * 4\n",
    "                output = []"
   ]
  },
  {
   "cell_type": "code",
   "execution_count": 240,
   "metadata": {},
   "outputs": [
    {
     "data": {
      "text/plain": [
       "'/Mk9'"
      ]
     },
     "execution_count": 240,
     "metadata": {},
     "output_type": "execute_result"
    }
   ],
   "source": [
    "password_generator(4, True)"
   ]
  }
 ],
 "metadata": {
  "kernelspec": {
   "display_name": "Python 3",
   "language": "python",
   "name": "python3"
  },
  "language_info": {
   "codemirror_mode": {
    "name": "ipython",
    "version": 3
   },
   "file_extension": ".py",
   "mimetype": "text/x-python",
   "name": "python",
   "nbconvert_exporter": "python",
   "pygments_lexer": "ipython3",
   "version": "3.11.0"
  }
 },
 "nbformat": 4,
 "nbformat_minor": 2
}
