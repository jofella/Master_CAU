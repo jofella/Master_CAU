{
 "cells": [
  {
   "cell_type": "code",
   "execution_count": 6,
   "metadata": {},
   "outputs": [],
   "source": [
    "import random"
   ]
  },
  {
   "cell_type": "code",
   "execution_count": 30,
   "metadata": {},
   "outputs": [],
   "source": [
    "# My four containers\n",
    "letters_lst =[\"a\",\"b\",\"c\",\"d\",\"e\",\"f\",\"g\",\"h\",\"i\",\"j\",\"k\",\"l\",\"m\",\"n\",\"o\",\"p\",\"q\",\"r\",\"s\",\"t\",\"u\",\"v\",\"w\",\"x\",\"y\",\"z\"]\n",
    "letters_upper_lst = [letters_lst.upper() for letters_lst in letters_lst]\n",
    "numbers_lst = list(range(0,10))\n",
    "specials_lst = [\"$\", \"%\", \"&\", \"/\", \"(\", \")\"]\n",
    "\n",
    "\n",
    "# Joint List for equal probability\n",
    "lst = [letters_lst, letters_upper_lst, numbers_lst, specials_lst]"
   ]
  },
  {
   "cell_type": "code",
   "execution_count": 38,
   "metadata": {},
   "outputs": [
    {
     "ename": "IndexError",
     "evalue": "list index out of range",
     "output_type": "error",
     "traceback": [
      "\u001b[1;31m---------------------------------------------------------------------------\u001b[0m",
      "\u001b[1;31mIndexError\u001b[0m                                Traceback (most recent call last)",
      "Cell \u001b[1;32mIn[38], line 35\u001b[0m\n\u001b[0;32m     33\u001b[0m \u001b[38;5;66;03m# Pulling elements\u001b[39;00m\n\u001b[0;32m     34\u001b[0m pullled_lst \u001b[38;5;241m=\u001b[39m lst[random_lst_selector]\n\u001b[1;32m---> 35\u001b[0m element \u001b[38;5;241m=\u001b[39m \u001b[43mpullled_lst\u001b[49m\u001b[43m[\u001b[49m\u001b[43mrandom_element_selector\u001b[49m\u001b[43m]\u001b[49m\n\u001b[0;32m     37\u001b[0m \u001b[38;5;66;03m# Output\u001b[39;00m\n\u001b[0;32m     38\u001b[0m output\u001b[38;5;241m.\u001b[39mappend(element)\n",
      "\u001b[1;31mIndexError\u001b[0m: list index out of range"
     ]
    }
   ],
   "source": [
    "# Check boxes\n",
    "output = []\n",
    "check_lst = [0] * 4\n",
    "control_lst = [1] * 4\n",
    "\n",
    "length_p = 4\n",
    "\n",
    "\n",
    "while check_lst != control_lst:\n",
    "    for x in range(0, length_p):\n",
    "        if x != length_p - 1:        \n",
    "            # Radomized seed\n",
    "            number = random.randrange(0,4)\n",
    "            random_lst_selector = number\n",
    "            max_lst_lenght = len(lst[number])\n",
    "            random_element_selector = random.randrange(0, max_lst_lenght)\n",
    "            \n",
    "            # Pulling elements\n",
    "            pullled_lst = lst[random_lst_selector]\n",
    "            pulled_element = pullled_lst[random_element_selector]\n",
    "            \n",
    "            # Saving combination\n",
    "            check_lst[number] = 1\n",
    "            \n",
    "            # Storing results\n",
    "            output.append(element)\n",
    "            \n",
    "        else:\n",
    "            # Radomized seed\n",
    "            random_lst_selector = random.randrange(0,4)\n",
    "            max_lst_lenght = len(lst[number])\n",
    "            random_element_selector = random.randrange(0,max_lst_lenght)\n",
    "            \n",
    "            # Pulling elements\n",
    "            pullled_lst = lst[random_lst_selector]\n",
    "            element = pullled_lst[random_element_selector]\n",
    "            \n",
    "            # Output\n",
    "            output.append(element)\n",
    "            \n",
    "            if check_lst == control_lst:\n",
    "                print(output)\n",
    "            else:\n",
    "                check_lst = [0] * 4\n",
    "                output = []"
   ]
  },
  {
   "cell_type": "code",
   "execution_count": 34,
   "metadata": {},
   "outputs": [
    {
     "data": {
      "text/plain": [
       "10"
      ]
     },
     "execution_count": 34,
     "metadata": {},
     "output_type": "execute_result"
    }
   ],
   "source": [
    "number = random.randrange(0,4)\n",
    "random_lst_selector = number\n",
    "max_len = len(lst[number])\n",
    "max_len"
   ]
  },
  {
   "cell_type": "code",
   "execution_count": 448,
   "metadata": {},
   "outputs": [],
   "source": [
    "# Building Function with Boolean check\n",
    "\n",
    "def password_generator(p_lenght=int, \n",
    "                       special=bool):\n",
    "    \n",
    "    # Containers with elementss\n",
    "    letters_lst =[\"a\",\"b\",\"c\",\"d\",\"e\",\"f\",\"g\",\"h\",\"i\",\"j\",\"k\",\"l\",\"m\",\"n\",\"o\",\"p\",\"q\",\"r\",\"s\",\"t\",\"u\",\"v\",\"w\",\"x\",\"y\",\"z\"]\n",
    "    letters_upper_lst = [letters_lst.upper() for letters_lst in letters_lst]\n",
    "    numbers_lst = list(range(0,10))\n",
    "    specials_lst = [\"$\", \"%\", \"&\", \"/\", \"(\", \")\"]\n",
    "    \n",
    "    lst = [letters_lst, letters_upper_lst, numbers_lst, specials_lst]\n",
    "    \n",
    "    # Checking Lists\n",
    "    output = []\n",
    "    check_lst = [0] * 4\n",
    "    control_lst = [1] * 4\n",
    "    \n",
    "    # Generating process\n",
    "    if special == True:    \n",
    "        while check_lst != control_lst:\n",
    "            \n",
    "            for x in range(0, p_lenght):\n",
    "                \n",
    "                if x != p_lenght:        \n",
    "                    # Radomized seed\n",
    "                    number = random.randrange(0,4)\n",
    "                    random_lst_selector = number\n",
    "                    max = len(lst[random_number])\n",
    "                    random_element_selector = random.randrange(0,max)\n",
    "                    \n",
    "                    # Pulling elements\n",
    "                    pullled_lst = lst[random_lst_selector]\n",
    "                    element = pullled_lst[random_element_selector]\n",
    "                    \n",
    "                    # Saving combination\n",
    "                    check_lst[number] = 1\n",
    "                    \n",
    "                    # Output\n",
    "                    output.append(element)\n",
    "                else:\n",
    "                    # Radomized seed\n",
    "                    random_lst_selector = random.randrange(0,4)\n",
    "                    max = len(lst[random_number])\n",
    "                    random_element_selector = random.randrange(0,max)\n",
    "                    \n",
    "                    # Pulling elements\n",
    "                    pullled_lst = lst[random_lst_selector]\n",
    "                    element = pullled_lst[random_element_selector]\n",
    "                    \n",
    "                    # Output\n",
    "                    output.append(element)\n",
    "                    \n",
    "                    if check_lst == control_lst:\n",
    "                        return(output)\n",
    "                    \n",
    "                    else:\n",
    "                        check_lst = [0] * 4\n",
    "                        output = []    \n",
    "    return(output)"
   ]
  },
  {
   "cell_type": "code",
   "execution_count": 449,
   "metadata": {},
   "outputs": [
    {
     "data": {
      "text/plain": [
       "[3, 'A', ')', 1, 2, 'B', 4, 4, '%', 4, 'd', 'b']"
      ]
     },
     "execution_count": 449,
     "metadata": {},
     "output_type": "execute_result"
    }
   ],
   "source": [
    "password_generator(4,True)"
   ]
  }
 ],
 "metadata": {
  "kernelspec": {
   "display_name": "Python 3",
   "language": "python",
   "name": "python3"
  },
  "language_info": {
   "codemirror_mode": {
    "name": "ipython",
    "version": 3
   },
   "file_extension": ".py",
   "mimetype": "text/x-python",
   "name": "python",
   "nbconvert_exporter": "python",
   "pygments_lexer": "ipython3",
   "version": "3.11.0"
  }
 },
 "nbformat": 4,
 "nbformat_minor": 2
}
