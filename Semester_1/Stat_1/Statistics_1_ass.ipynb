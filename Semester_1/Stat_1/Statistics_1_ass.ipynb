{
 "cells": [
  {
   "cell_type": "markdown",
   "metadata": {},
   "source": [
    "### Exercise 1: a) Exercise: Password generator (3 Points)\n",
    "\n",
    "You are asked to write a function that creates random passwords. The function must have two arguments:\n",
    "1. length - number of symbols used in the password, it should be 4 by default if no value is specified.\n",
    "2. special - a TRUE/FALSE boolean that is TRUE if special characters like \"$\" are included, it should be TRUE by default, if no value is specified.\n",
    "\n",
    "The password can be made of \n",
    "- lower case letters, \"a\", \"b\",...,\"z\" (there are 26 possibilities)\n",
    "- upper case letters, \"A\", \"B\",...,\"Z\" (there are 26 possibilities)\n",
    "- numbers, \"0\", \"1\",...,\"9\" (there are 10 possibilities)\n",
    "- and (if allowed) special characters which are: \"$\", \"%\", \"&\", \"/\", \"(\", \")\" (there are 6 possibilities)\n",
    "\n",
    "Further, the password is supposed to have at least one of each: lower case letter, upper case letter, number and if allowed special character. \n",
    "Apart from that, at each position the password should have an equal probability to draw one of the 68 symbols (62 if special characters not allowed).\n",
    "\n",
    "Additionally, \n",
    "3. If \"length\" in the function argument is less than 4, return: \"Password must be at least of length 4!\"\n",
    "4. If \"length\" in the function argument is not an integer, return: \"Number of symbols must be a positive integer!\"\n",
    "\n",
    "Last,\n",
    "5. If length of the password is <6, the function should print: \"Weak password!\"\n",
    "6. If length of the password is >6 and <10, the function should print: \"Moderate password!\"\n",
    "7. If length of the password is >10, the function should print: \"Strong password!\"\n",
    "\n",
    "8. The function should return the password as one single character, i.e. merging the drawn symbols in one character.\n",
    "\n",
    "Make sure your function fulfills all needed conditions by testing a few variations!"
   ]
  },
  {
   "cell_type": "code",
   "execution_count": 244,
   "metadata": {},
   "outputs": [],
   "source": [
    "import random"
   ]
  },
  {
   "cell_type": "code",
   "execution_count": 245,
   "metadata": {},
   "outputs": [],
   "source": [
    "# My four containers\n",
    "letters_lst =[\"a\",\"b\",\"c\",\"d\",\"e\",\"f\",\"g\",\"h\",\"i\",\"j\",\"k\",\"l\",\"m\",\"n\",\"o\",\"p\",\"q\",\"r\",\"s\",\"t\",\"u\",\"v\",\"w\",\"x\",\"y\",\"z\"]\n",
    "letters_upper_lst = [letters_lst.upper() for letters_lst in letters_lst]\n",
    "numbers_lst = list(range(0,10))\n",
    "specials_lst = [\"$\", \"%\", \"&\", \"/\", \"(\", \")\"]\n",
    "\n",
    "# Joint List for equal probability\n",
    "lst = [letters_lst, letters_upper_lst, numbers_lst, specials_lst]"
   ]
  },
  {
   "cell_type": "code",
   "execution_count": 246,
   "metadata": {},
   "outputs": [
    {
     "name": "stdout",
     "output_type": "stream",
     "text": [
      "0vI(\n"
     ]
    }
   ],
   "source": [
    "# Check boxes\n",
    "output = []\n",
    "check_lst = [0] * 4\n",
    "control_lst = [1] * 4\n",
    "\n",
    "length = 4\n",
    "\n",
    "while check_lst != control_lst:\n",
    "    for x in range(length):\n",
    "        # Randomized seed\n",
    "        number = random.randrange(0, len(lst))\n",
    "        random_lst_selector = number\n",
    "        max_lst_length = len(lst[random_lst_selector])\n",
    "        random_element_selector = random.randrange(0, max_lst_length)\n",
    "        \n",
    "        # Pulling elements\n",
    "        pulled_lst = lst[random_lst_selector]\n",
    "        pulled_element = pulled_lst[random_element_selector]\n",
    "        \n",
    "        # Saving combination\n",
    "        check_lst[random_lst_selector] = 1\n",
    "        # \n",
    "        # Storing results\n",
    "        output.append(pulled_element)\n",
    "    \n",
    "    # Output\n",
    "    if check_lst == control_lst:\n",
    "        final_password = ''.join(map(str, output))\n",
    "        print(final_password)\n",
    "        \n",
    "    else:\n",
    "        check_lst = [0] * 4\n",
    "        output = []"
   ]
  },
  {
   "cell_type": "code",
   "execution_count": 249,
   "metadata": {},
   "outputs": [],
   "source": [
    "# Building Function with Boolean check\n",
    "\n",
    "def password_generator(lenght, special):\n",
    "    \n",
    "    # Input check\n",
    "    if type(lenght) is not int:\n",
    "        print(f\"Number of symbols must be a positive integer!\")\n",
    "        return\n",
    "    \n",
    "    elif lenght < 4:\n",
    "        print(\"Password must be at least of length 4!\")\n",
    "        return\n",
    "    \n",
    "    else:    \n",
    "        # Containers with elementss\n",
    "        letters_lst =[\"a\",\"b\",\"c\",\"d\",\"e\",\"f\",\"g\",\"h\",\"i\",\"j\",\"k\",\"l\",\"m\",\"n\",\"o\",\"p\",\"q\",\"r\",\"s\",\"t\",\"u\",\"v\",\"w\",\"x\",\"y\",\"z\"]\n",
    "        letters_upper_lst = [letter.upper() for letter in letters_lst]\n",
    "        numbers_lst = list(range(0,10))\n",
    "        specials_lst = [\"$\", \"%\", \"&\", \"/\", \"(\", \")\"]\n",
    "        \n",
    "        \n",
    "        # Checking if special characters allowed\n",
    "        if special == False:\n",
    "            lst = [letters_lst, letters_upper_lst, numbers_lst]\n",
    "        else:\n",
    "            lst = [letters_lst, letters_upper_lst, numbers_lst, specials_lst]\n",
    "        \n",
    "        \n",
    "        # Lists to verify & store output\n",
    "        output = []\n",
    "        check_lst = [0] * len(lst)\n",
    "        control_lst = [1] * len(lst)\n",
    "        \n",
    "\n",
    "        while check_lst != control_lst:\n",
    "            for x in range(lenght):\n",
    "                # Randomized seed\n",
    "                number = random.randrange(0, len(lst))\n",
    "                random_lst_selector = number\n",
    "                max_lst_length = len(lst[random_lst_selector])\n",
    "                random_element_selector = random.randrange(0, max_lst_length)\n",
    "                \n",
    "                # Pulling elements\n",
    "                pulled_lst = lst[random_lst_selector]\n",
    "                pulled_element = pulled_lst[random_element_selector]\n",
    "                \n",
    "                # Saving combination\n",
    "                check_lst[random_lst_selector] = 1\n",
    "                # \n",
    "                # Storing results\n",
    "                output.append(pulled_element)\n",
    "            \n",
    "            # Output\n",
    "            if check_lst == control_lst:\n",
    "                final_password = ''.join(map(str, output))\n",
    "                \n",
    "                if len(final_password) < 6:\n",
    "                    print(\"Weak password!\")\n",
    "                    print(final_password)\n",
    "                    \n",
    "                elif len(final_password) > 6 and len(final_password) < 10:\n",
    "                    print(\"Moderate password!\")\n",
    "                    print(final_password)\n",
    "                \n",
    "                else:\n",
    "                    print(\"Strong password!\")\n",
    "                    print(final_password)  \n",
    "                                                            \n",
    "            else:\n",
    "                check_lst = [0] * 4\n",
    "                output = []"
   ]
  },
  {
   "cell_type": "markdown",
   "metadata": {},
   "source": [
    "### Impoved solution by Chat GBT"
   ]
  },
  {
   "cell_type": "code",
   "execution_count": 407,
   "metadata": {},
   "outputs": [
    {
     "name": "stdout",
     "output_type": "stream",
     "text": [
      "Weak password!\n",
      "M&n)e\n"
     ]
    }
   ],
   "source": [
    "import random\n",
    "\n",
    "def password_generator(length, special=True):\n",
    "    if not isinstance(length, int) or length < 4:\n",
    "        print(\"Number of symbols must be a positive integer and password must be at least of length 4!\")\n",
    "        return\n",
    "\n",
    "    letters = list(\"abcdefghijklmnopqrstuvwxyz\")\n",
    "    letters_upper = list(\"ABCDEFGHIJKLMNOPQRSTUVWXYZ\")\n",
    "    numbers = list(\"0123456789\")\n",
    "    specials = list(\"$%&/()\")\n",
    "\n",
    "    lst = [letters, letters_upper, numbers]\n",
    "    if special:\n",
    "        lst.append(specials)\n",
    "\n",
    "    output = []\n",
    "    while len(output) < length:\n",
    "        random_lst_selector = random.choice(lst)\n",
    "        random_element_selector = random.choice(random_lst_selector)\n",
    "        output.append(random_element_selector)\n",
    "\n",
    "    final_password = ''.join(output)\n",
    "\n",
    "    if 6 <= len(final_password) < 10:\n",
    "        print(\"Moderate password!\")\n",
    "    elif len(final_password) >= 10:\n",
    "        print(\"Strong password!\")\n",
    "    else:\n",
    "        print(\"Weak password!\")\n",
    "\n",
    "    print(final_password)\n",
    "\n",
    "# Example usage:\n",
    "password_generator(5, special=True)"
   ]
  },
  {
   "cell_type": "markdown",
   "metadata": {},
   "source": [
    "### 1. b) Test your function here for"
   ]
  },
  {
   "cell_type": "code",
   "execution_count": 287,
   "metadata": {},
   "outputs": [
    {
     "name": "stdout",
     "output_type": "stream",
     "text": [
      "Moderate password!\n",
      "7&E$L7e\n",
      "Password must be at least of length 4!\n",
      "Number of symbols must be a positive integer!\n"
     ]
    }
   ],
   "source": [
    "### Test of function\n",
    "\n",
    "# 1\n",
    "length = 7\n",
    "special = True\n",
    "password_generator(length, special)\n",
    "\n",
    "# 2\n",
    "length = 3\n",
    "special = True\n",
    "password_generator(length, special)\n",
    "\n",
    "# 3\n",
    "length = 4.5\n",
    "special = True\n",
    "password_generator(length, special)"
   ]
  },
  {
   "cell_type": "code",
   "execution_count": null,
   "metadata": {},
   "outputs": [],
   "source": [
    "# 4 --> potential problem\n",
    "length = 5\n",
    "special = False\n",
    "password_generator(length, special)"
   ]
  },
  {
   "cell_type": "code",
   "execution_count": 390,
   "metadata": {},
   "outputs": [
    {
     "name": "stdout",
     "output_type": "stream",
     "text": [
      "Strong password!\n",
      "9rnpf3Cln$)/J%E3j4/i6)vol$Ze/5&9wJ2Mj85$r(c7KjU)t)F7Y&2(8NL7)y0nyg$(Pw5G7o%Y0vN)/WmsM)9&5F1/woSf$7Jr79I)FX%le5NZZ782W0wC5F9%H(y2OAd4Lx8GhtZ$s&j(/HBA/92/9jcgKtn6v0jXu/H%7gn$x)1tK5)S9/BrYy7lN(X$0%S/%7G$%CaxPA30n$VJ0$L&8oS3xw45$0)rg$$HS8%48vR/ci/DOve51vz82l%Z/8Co)W5F$e/3f55Mb0XHS(&E3))/99GNeSGC/Q%%xb/wvbvbO)d&%uh)aj/F$$DS%l8)Mh)MBGh5X9Z&WI/tk)7D2$CP41/2690JM93Y0K)t9&)Y&Wj8%X3f161IgRb9l55XXeU4$5G$4$826V$4)()t3t&3iNP1%gV//f(&9cfb/yUU)7eg%c5e8e($TmOsXbOYXYJ(X$0N1(uqSeu21BR4V8mi&(F69)86fI/y7NVpL%$&n/qoe$%7i22g%(n478%$R0/%2o$RU)LM(K2)Z17nK5xl%2y3c8%819x&t)%%T5JnO2)%5$Q)u%4o6P744U(U4&7Ch%mhS7/4K%1O3%m8V(62FTf(RRS0((tm%v2Y4Mpwx(()/)7c5u&xxywk3z3h7mIA2%5K&3l3g)eV0d9iA$(L/%22vrX35%0R3kAMQ(6WjONl)Dy)H$fAd(HW267x1Q%6891vc8H4/3/Nr6xT34/28ES3)q%x%k)B(dla6B8TD%FE17Ev)x%(5(q3(0pwyS(S4(%3a124/0(tYyg(l//M/7S0d6%/(tWph7)1$i%g%s67$iOO06(4362)B&%&K6uM5N)&&e)A8S($N/vWZ((k((%b$k8Y8%/v9%Ol22hWk/cn8(U20Pr$1&3&)4i)/W(9MY54N0faxZe0hyPu%8g198wxH2I90Y28$7949km2/IzYr%&srvgdlDVx)GU)ugyyQ1fA&chW0TVmX38gy$&X%1LF7(y)3Bw/)T&3f$R/(/69i2r%&Y%q&yM8%P%T&A3$b3fP/h&WTV&iNr2)7QERKYN85IxJX()%$FS)32)BE/w$AVvc(w6%3O9Q%xh)rznbTGG&&7k6$(p6V4&%i7//HCw2HOy7w)Ya1tV/b511A0qNzqEW2&kgBNNWy4F8H424cr6I3z40&/c(523vn0)9&06d%V9l)&(1Drmq7$g1)9AGloeJ(Vt5v88u1))5t&md)G61)Eud%eJ12n5io762Sf4(&43s8o$Gr73//fu&d(7%X2/$cJ3%dJE92/B()0tAuE&v&Rz54s4)60(74gCu3576bl$s22)%(S/8&gl2BYN3fpfb6(/n(C/t$j28n)91I0c$9$1Rm1NY2f$)oJRb/449&/)Q1E5nKP8S$%8(B$WR)(&h$a29$7453z//)TJJ%Tz)m&yDZM1x$gKZ$s1k6//X48(Y%wJ5BYaSg00Y(rdx2$/8%DH2(6W2)ym%V)7i%$Y6N&01f$&n0d8w090ah1reY4&&X6H%BjH2M$&94(W)mC0S10(1)1nXn(A%(/1/3XJ5$59(%mcA39($z02)(2$06/5)H$%(BSXn$qDjN0M4)7E633RNq39)tm6k&%bD6BHsMyq7GmtxuZ/$vzd88g7X$hfW5uj(0v4i&0sEEF&A&tVlQGuH1k/w06986h/by&it&9qj5)o$453H%)1l/L9&r316Yyo923ot9ZD6)UW&$1Q9zI256B76xn%7A)9qzJ%a)A04)(S%(6L27W98V8ze631Qdx$/XQV$J)g7%v$m52i)zyqA$$6ISKrs3uiX0N8nTL)M)TUFjE&c6)ItS%1VV&vt3%8i99%)ccJt$y77efC47FG&&Q/2G&0(mC21m0tqXo&&44XG0&Up501Vn(lew%27$Z&gL5SG7$E)F2k3ZzNh2916QYl1)32Gd7e)4(l)(B)&IP&&61)/mL2$&coqWZ$)n5uT8lKi)bB0oI6%%6/$N)t1s$f7I&R3/XJK1QG&54wJAxnqfc6bE55%5&nLTZffppZ&fC62gM7NtQQr)%3DQ95L/$$1sBFJTeDK170(7xI0()6)5&UJ$B6lo31vi7soP$O0RI$&X4)j$/v4%ns08aby%94U&j%Kf/K6nQ6uV&HG34m)5435Lc20g28Q8rwMr)rpQa2wTJ2aY%n8)%X)j)2sx4/65(g()bn78(RpSrIyMr7PZE&iKb9D/qT6$50VEh(7joU9eqB4r&zsc%7&(4(vb70360(8l7n)$UKk2d15)%Nu(/42(Y$1F4w1z46Yi$2o1r0a&V/(z9&&34K5(%xQWmLC/82Sc21z$03U$Jj%&/&ajeHj9H()&v%w50F8)vTi8VehE$4&OE&C%/$/nQ)$S1jVYF3Qb$EVZzV8384z2%FUdY(I8IHAT(C%a()$Ei50(K%I/t$%DY$$nI95Vh(4$59h)1jPJBT%mcpG5jD$%z(UMV6Pg$&k/N17Xx%$((r/(2RN99cH9wj0U(7/(830)v9%(Xjczn6ov&8BT$Sz562y()P0$&OEJ2Ey&(&67b/&%L2KUj8%)/)&c1(8brxY%rFtWw%$Giokz4d3fPjACdqL1T7/Tz9CDE2n9u6/PW9Jr(b/62&)b/XyKa%lIJ/81&HW$Q(9O33z)/5&Ap1zoV/Dx688CMS(N3i%(R0x$878rE0jAB/L3/802(IGPiC6n6$/%hb)59hTVR39&WY7d$m3O6dV62s52o4aT$FPMgX&&%/2F)%%v75a(9M)JkO$1K15FYbc5M(E)E%J7R/gO9fL0i1EgH$qg1C/3h9R4/H60S73/27EvGUIe9k$98m9R$1SD(F2&rPA&tU&kfZEkzr0wj)92h)Uz4n)BB15hfzo/j&&M(clKG$H/&MH3d/OU&Qr9mjgfa/20UB2Tkb5U$5N4c1h7lOQ$o%4n&&(j9M6N6hXp90/o69w7&W50h5&$7T(f5Rof/vbIk)Q2&/i32YX6WhgJ8L%()n$$2)qG/Ti(GN0M/$si//i%(UM5Ht8)j7)1$aO00zGmCJ16fgU/R14s&$x4A(1d)7SD$MMfwN()(%DD/656IPf/U1($05QGHi%514/MHxA&oTF3)Bohcc67(cWN0Gjj4/&Uh&3I/IK1A1Yn(%SqBL89)b&A(Z0$MYdDdmdmYq7o0(s%9ZjA8%H)S3)%w&m42207J6H9%67k&W0UN1WBW4Y5LlSTW(WX$A)$75th&$%nfC$&4aN&uNx(2r7v4jT/3317klurH3%%e6038&%)A11GJE%/6Q3(G7I(Oyr&2A5)4B(C%lJt1/Z3aa&bgM/3JA$Q1p82/$Spv9h5)(E(D219ho3moW&z1U/$/Vb%/6rU%%j7)4f47L5&C0)vS&PJ75X%988q%WmMc%iq4(nWBr&Q&1($2o4S)%04A&oaz/%v&a66F6j6Zg/yz1tt6()5v(hw&B/7Av5N&G/Yi0qLWD7ZQsR3(zkG))z2zl2Kv$tj8BeL&$)$s$qEC/YUt%2d1&bx014(%%/1(u/l&5/c9(6JljsaLB(t1$u$&Z/sz5SlmDr9&MelG8&2EB$AM(&/GD%Aq1J%%6g%v1%DB1Y9jwV72N241&T2/z/&T(/$KS0d2eL8/$nusja/8&Hvw%Zut8/y(9&20a$%iL(v9D%9O%p344Nh3yh&&1LVGC/H%8w$8z&$y%xK/4(42u0i74$971y8r$(e)Ht&(/4m$9TftH4f4MA4H7q0lE5q38(v($Lh(cY5%p5$17Sg%i()8c1$36v$l2r09%u4WGltB(356)as5$/6u&3$i$%5mT2qM/$gYlFn&xIVJ/j()/S/)0)u2h(9/3A5pT%)$%)PF3tTVZ(Z9Mr4)I(g)6LM3d58(9ISuO1U$O7K1oy15(&8W4RKhM(m$C7wE&$yF%Ss&bH7J97/t8i()M)jnur9tl6$))9ln1VaGuU2DvD5t45fa$b%b(4aO52TZkR%pr$2g7/t2/f0zB4Y)GEs&44)S4c(3GT55Q%mULCrpde)%G5ySVorxdr\n"
     ]
    }
   ],
   "source": [
    "# 5\n",
    "length = 4000\n",
    "special = True\n",
    "password_generator(length, special)"
   ]
  },
  {
   "cell_type": "markdown",
   "metadata": {},
   "source": [
    "### 2. a) Excercise: Gamma vs. Normal distribution (3 points):\n",
    "\n",
    "In this exercise you need to demonstrate that if a random variable $X$ is ${\\Gamma}$-distributed with shape parameter $a$ and scale parameter $b$, then for $a \\to \\infty$  $X \\overset{d}{\\rightarrow} \\mathcal{N} (ab,ab^2)$ if $a > b$.\n",
    "\n",
    "To this end, write a function that samples and returns $N$ observations from the ${\\Gamma}$ distribution with with shape parameter $a$ and scale parameter $b$. The function's input shall be $a$, $b$ and N."
   ]
  },
  {
   "cell_type": "markdown",
   "metadata": {},
   "source": [
    "#### 2.1. Creating gamma sample"
   ]
  },
  {
   "cell_type": "code",
   "execution_count": 242,
   "metadata": {},
   "outputs": [],
   "source": [
    "import numpy as np # --> equivalent to built in r-functions\n",
    "import matplotlib.pyplot as plt\n",
    "%matplotlib inline"
   ]
  },
  {
   "cell_type": "code",
   "execution_count": 413,
   "metadata": {},
   "outputs": [],
   "source": [
    "# parameters\n",
    "alpha_shape = 1\n",
    "beta_scale = 1\n",
    "N_size = 100\n",
    "\n",
    "# Generating random numbers (easy way)\n",
    "np.random.seed(28)\n",
    "sample1 = np.random.gamma(shape=alpha_shape, scale=beta_scale, size=N_size)"
   ]
  },
  {
   "cell_type": "code",
   "execution_count": 412,
   "metadata": {},
   "outputs": [],
   "source": [
    "# Generating random numbers from gamma distribution (coherent with r method)\n",
    "def get_gamma_sample(alpha, beta, N):\n",
    "    np.random.seed(28) # -->fixed seed code\n",
    "    sample = []\n",
    "    for x in range(N):\n",
    "        sample.append(np.random.gamma(alpha, beta))\n",
    "    return(sample)"
   ]
  },
  {
   "cell_type": "markdown",
   "metadata": {},
   "source": [
    "##### Creating limiting normal distribution"
   ]
  },
  {
   "cell_type": "code",
   "execution_count": 346,
   "metadata": {},
   "outputs": [
    {
     "name": "stdout",
     "output_type": "stream",
     "text": [
      "All good buddy!\n"
     ]
    }
   ],
   "source": [
    "# Test window & sense check:\n",
    "sample = get_gamma_sample(1,1,100)\n",
    "\n",
    "if any(sample_element != sample1_element for sample_element, sample1_element in zip(sample, sample1)):\n",
    "    print(\"False value found in the array.\")\n",
    "else:\n",
    "    print(\"All good buddy!\")"
   ]
  },
  {
   "cell_type": "markdown",
   "metadata": {},
   "source": [
    "Getting ${\\Gamma}$ mean and ${\\Gamma}$ variance for modeling the normal distribution. Generally the first and second moments are: $ab$ and $ab^2$ respectively."
   ]
  },
  {
   "cell_type": "code",
   "execution_count": 366,
   "metadata": {},
   "outputs": [
    {
     "name": "stdout",
     "output_type": "stream",
     "text": [
      "99999.89358762145 100000\n",
      "100009.01277012774 100000\n"
     ]
    },
    {
     "data": {
      "image/png": "[encoded data removed]",
      "text/plain": [
       "<Figure size 640x480 with 1 Axes>"
      ]
     },
     "metadata": {},
     "output_type": "display_data"
    }
   ],
   "source": [
    "# parameters\n",
    "alpha_shape = 100000\n",
    "beta_scale = 1\n",
    "N_size = 10000000\n",
    "\n",
    "# Get gamma moments\n",
    "gamma_mean = np.mean(get_gamma_sample(alpha_shape,beta_scale,N_size))\n",
    "gamma_var = np.var(get_gamma_sample(alpha_shape,beta_scale,N_size))\n",
    "\n",
    "# Get normal moments of gamma sample\n",
    "normal_mean = alpha_shape * beta_scale\n",
    "normal_var = alpha_shape * (beta_scale ** 2)\n",
    "\n",
    "# Generating the limiting normal distribution\n",
    "normal_sample = np.random.normal(loc=normal_mean, scale=np.sqrt(normal_var), size=N_size)\n",
    "plt.hist(normal_sample, bins=\"scott\")\n",
    "\n",
    "\n",
    "# Output results\n",
    "print(gamma_mean, normal_mean)\n",
    "print(gamma_var, normal_var)"
   ]
  },
  {
   "cell_type": "markdown",
   "metadata": {},
   "source": [
    "#### 2.2. Plot the resulting observations from the ${\\Gamma}$ distribution using histograms with Scott breaks for $a$ = c(1, 5, 10, 50, 100) and $b$ = 1, N = 5000 in a 3x2 plot window and add the respective limiting Normal density for comparison. Choose a meaningful title, label the axes and add a legend to your plot."
   ]
  },
  {
   "cell_type": "code",
   "execution_count": null,
   "metadata": {},
   "outputs": [],
   "source": [
    "# Setting parameters\n",
    "alpha_values = [1,5,10,50,100,1000000]\n",
    "beta = 1\n",
    "N = 5000\n",
    "np.random.seed(28)\n",
    "\n",
    "# Setting up subplots\n",
    "fig, axs  = plt.subplots(3,2, figsize=(10,12))\n",
    "\n",
    "# Creating plots\n",
    "for i, ax in enumerate(axs.flatten()): #makes the axs object 1D\n",
    "    if i < len(alpha_values):\n",
    "        \n",
    "        # Generate Gamma samples\n",
    "        gamma_samples = get_gamma_sample(alpha_values[i], beta, N)\n",
    "        \n",
    "        # Plot Gamma distribution histogram\n",
    "        ax.hist(gamma_samples, bins=\"scott\", color='blue', alpha=0.7, label='Gamma Distribution')\n",
    "        \n",
    "        # Plot the limiting Normal distribution\n",
    "        normal_mean = alpha_values[i] * beta\n",
    "        normal_var = alpha_values[i] * (beta ** 2)\n",
    "        normal_samples = np.random.normal(loc=normal_mean, scale=np.sqrt(normal_var), size=N)\n",
    "        ax.hist(normal_samples, bins=\"scott\", color='red', alpha=0.7, label='Normal Distribution (Limit)')\n",
    "        \n",
    "        # Add Labels to plot\n",
    "        ax.set_title(f\"Gamma Distribution, Alpha = {alpha_values[i]}, Beta = {beta}\")\n",
    "        ax.set_ylabel(\"Density\")\n",
    "        ax.legend()\n",
    "\n",
    "plt.tight_layout()\n",
    "plt.show"
   ]
  },
  {
   "cell_type": "markdown",
   "metadata": {},
   "source": [
    "###  b) Slutsky's theorems\n",
    "\n",
    "Now assume that you observe $X_n \\sim \\Gamma(a,b)$ for $a = c(1, 5, 10, 50, 100)$ and $b = 1$ as well as $Y_n \\sim \\mathcal{N}\\left(\\mu, 4\\sigma^2\\sqrt{n^{-5}}\\right)$ where $\\mu = 3.5$ and $\\sigma = 7$. Verify that following part of Slutsky's theorems holds with increasing values of $a$ : 2. $X_n \\cdot Y_n \\overset{d}{\\rightarrow} X\\cdot c$. Do this with the help of Monte Carlo simulations and a corresponding 3x2 plot window. Choose $N_{MC} = 1000$, $n = 1000$.\n",
    "Hint: Remember that $X \\overset{d}{\\rightarrow} \\mathcal{N} (ab,ab^2)$ for increasing values of $a$."
   ]
  },
  {
   "cell_type": "code",
   "execution_count": 431,
   "metadata": {},
   "outputs": [
    {
     "data": {
      "text/plain": [
       "<Figure size 640x480 with 0 Axes>"
      ]
     },
     "metadata": {},
     "output_type": "display_data"
    }
   ],
   "source": [
    "# Empirrical proof of Slutsky's theorems\n",
    "\n",
    "# Set parameters\n",
    "N_MCarlo = 1000\n",
    "n = 1000\n",
    "alpha_values = [1,5,10,50,100,10000] \n",
    "beta = 1\n",
    "mu = 3.5\n",
    "sigma = 7\n",
    "np.random.seed(28)\n",
    "\n",
    "\n",
    "# Create plot\n",
    "for i, ax in enumerate(axs.flatten()):\n",
    "    if i < len(alpha_values):\n",
    "        # Generate sample\n",
    "        X_n = get_gamma_sample(alpha_values[i], beta, N_MCarlo)\n",
    "        Y_n = np.random.normal(loc=mu, scale=4 * (sigma ** 2) * np.sqrt(n ** -5), size=N_MCarlo)\n",
    "        sample = X_n * Y_n\n",
    "\n",
    "        # Plot results\n",
    "        ax.hist(sample, bins='scott', density=True, alpha=0.7, label='Empirical')\n",
    "        \n",
    "        # Compute expected limiting distribution parameters\n",
    "        expected_mean = alpha_values[i] * mu\n",
    "        expected_variance = alpha_values[i] * (mu**2 + 16 * (sigma**4) * (n**-5))\n",
    "\n",
    "        # Overlay expected limiting distribution without scipy\n",
    "        x = np.linspace(expected_mean - 3 * np.sqrt(expected_variance), expected_mean + 3 * np.sqrt(expected_variance), 100)\n",
    "        pdf_values = (1 / np.sqrt(2 * np.pi * expected_variance)) * np.exp(-0.5 * ((x - expected_mean) / np.sqrt(expected_variance))**2)\n",
    "        ax.plot(x, pdf_values, color='red', linewidth=2, label='Limiting Distribution')\n",
    "\n",
    "        ax.set_title(f\"Gamma * Normal, Alpha = {alpha_values[i]}, Beta = {beta}\")\n",
    "        ax.set_xlabel(\"Value\")\n",
    "        ax.set_ylabel(\"Density\")\n",
    "        ax.legend()\n",
    "\n",
    "\n",
    "plt.tight_layout()\n",
    "plt.show()"
   ]
  }
 ],
 "metadata": {
  "kernelspec": {
   "display_name": "Python 3",
   "language": "python",
   "name": "python3"
  },
  "language_info": {
   "codemirror_mode": {
    "name": "ipython",
    "version": 3
   },
   "file_extension": ".py",
   "mimetype": "text/x-python",
   "name": "python",
   "nbconvert_exporter": "python",
   "pygments_lexer": "ipython3",
   "version": "3.11.0"
  }
 },
 "nbformat": 4,
 "nbformat_minor": 2
}
