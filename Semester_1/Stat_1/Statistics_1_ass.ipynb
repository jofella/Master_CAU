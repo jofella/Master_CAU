{
 "cells": [
  {
   "cell_type": "markdown",
   "metadata": {},
   "source": [
    "### Exercise 1: a) Exercise: Password generator (3 Points)\n",
    "\n",
    "You are asked to write a function that creates random passwords. The function must have two arguments:\n",
    "1. length - number of symbols used in the password, it should be 4 by default if no value is specified.\n",
    "2. special - a TRUE/FALSE boolean that is TRUE if special characters like \"$\" are included, it should be TRUE by default, if no value is specified.\n",
    "\n",
    "The password can be made of \n",
    "- lower case letters, \"a\", \"b\",...,\"z\" (there are 26 possibilities)\n",
    "- upper case letters, \"A\", \"B\",...,\"Z\" (there are 26 possibilities)\n",
    "- numbers, \"0\", \"1\",...,\"9\" (there are 10 possibilities)\n",
    "- and (if allowed) special characters which are: \"$\", \"%\", \"&\", \"/\", \"(\", \")\" (there are 6 possibilities)\n",
    "\n",
    "Further, the password is supposed to have at least one of each: lower case letter, upper case letter, number and if allowed special character. \n",
    "Apart from that, at each position the password should have an equal probability to draw one of the 68 symbols (62 if special characters not allowed).\n",
    "\n",
    "Additionally, \n",
    "3. If \"length\" in the function argument is less than 4, return: \"Password must be at least of length 4!\"\n",
    "4. If \"length\" in the function argument is not an integer, return: \"Number of symbols must be a positive integer!\"\n",
    "\n",
    "Last,\n",
    "5. If length of the password is <6, the function should print: \"Weak password!\"\n",
    "6. If length of the password is >6 and <10, the function should print: \"Moderate password!\"\n",
    "7. If length of the password is >10, the function should print: \"Strong password!\"\n",
    "\n",
    "8. The function should return the password as one single character, i.e. merging the drawn symbols in one character.\n",
    "\n",
    "Make sure your function fulfills all needed conditions by testing a few variations!"
   ]
  },
  {
   "cell_type": "code",
   "execution_count": 2,
   "metadata": {},
   "outputs": [],
   "source": [
    "import random"
   ]
  },
  {
   "cell_type": "code",
   "execution_count": 3,
   "metadata": {},
   "outputs": [],
   "source": [
    "# My four containers\n",
    "letters_lst =[\"a\",\"b\",\"c\",\"d\",\"e\",\"f\",\"g\",\"h\",\"i\",\"j\",\"k\",\"l\",\"m\",\"n\",\"o\",\"p\",\"q\",\"r\",\"s\",\"t\",\"u\",\"v\",\"w\",\"x\",\"y\",\"z\"]\n",
    "letters_upper_lst = [letters_lst.upper() for letters_lst in letters_lst]\n",
    "numbers_lst = list(range(0,10))\n",
    "specials_lst = [\"$\", \"%\", \"&\", \"/\", \"(\", \")\"]\n",
    "\n",
    "# Joint List for equal probability\n",
    "lst = [letters_lst, letters_upper_lst, numbers_lst, specials_lst]"
   ]
  },
  {
   "cell_type": "code",
   "execution_count": 15,
   "metadata": {},
   "outputs": [
    {
     "name": "stdout",
     "output_type": "stream",
     "text": [
      "Lj5(\n"
     ]
    }
   ],
   "source": [
    "# Check boxes\n",
    "output = []\n",
    "check_lst = [0] * 4\n",
    "control_lst = [1] * 4\n",
    "\n",
    "length = 4\n",
    "\n",
    "while check_lst != control_lst:\n",
    "    for x in range(length):\n",
    "        # Randomized seed\n",
    "        number = random.randrange(0, len(lst))\n",
    "        random_lst_selector = number\n",
    "        max_lst_length = len(lst[random_lst_selector])\n",
    "        random_element_selector = random.randrange(0, max_lst_length)\n",
    "        \n",
    "        # Pulling elements\n",
    "        pulled_lst = lst[random_lst_selector]\n",
    "        pulled_element = pulled_lst[random_element_selector]\n",
    "        \n",
    "        # Saving combination\n",
    "        check_lst[random_lst_selector] = 1\n",
    "        # \n",
    "        # Storing results\n",
    "        output.append(pulled_element)\n",
    "    \n",
    "    # Output\n",
    "    if check_lst == control_lst:\n",
    "        final_password = ''.join(map(str, output))\n",
    "        print(final_password)\n",
    "        \n",
    "    else:\n",
    "        check_lst = [0] * 4\n",
    "        output = []"
   ]
  },
  {
   "cell_type": "code",
   "execution_count": 50,
   "metadata": {},
   "outputs": [],
   "source": [
    "# Building Function with Boolean check\n",
    "\n",
    "def password_generator(lenght, special):\n",
    "    \n",
    "    # Input check\n",
    "    if type(lenght) is not int:\n",
    "        print(f\"Number of symbols must be a positive integer!\")\n",
    "        return\n",
    "    \n",
    "    elif lenght < 4:\n",
    "        print(\"Password must be at least of length 4!\")\n",
    "        return\n",
    "    \n",
    "    else:    \n",
    "        # Containers with elementss\n",
    "        letters_lst =[\"a\",\"b\",\"c\",\"d\",\"e\",\"f\",\"g\",\"h\",\"i\",\"j\",\"k\",\"l\",\"m\",\"n\",\"o\",\"p\",\"q\",\"r\",\"s\",\"t\",\"u\",\"v\",\"w\",\"x\",\"y\",\"z\"]\n",
    "        letters_upper_lst = [letters_lst.upper() for letters_lst in letters_lst]\n",
    "        numbers_lst = list(range(0,10))\n",
    "        specials_lst = [\"$\", \"%\", \"&\", \"/\", \"(\", \")\"]\n",
    "        \n",
    "        \n",
    "        # Checking if special characters allowed\n",
    "        if special == False:\n",
    "            lst = [letters_lst, letters_upper_lst, numbers_lst]\n",
    "        else:\n",
    "            lst = [letters_lst, letters_upper_lst, numbers_lst, specials_lst]\n",
    "        \n",
    "        \n",
    "        # Lists to verify & store output\n",
    "        output = []\n",
    "        check_lst = [0] * len(lst)\n",
    "        control_lst = [1] * len(lst)\n",
    "        \n",
    "\n",
    "        while check_lst != control_lst:\n",
    "            for x in range(lenght):\n",
    "                # Randomized seed\n",
    "                number = random.randrange(0, len(lst))\n",
    "                random_lst_selector = number\n",
    "                max_lst_length = len(lst[random_lst_selector])\n",
    "                random_element_selector = random.randrange(0, max_lst_length)\n",
    "                \n",
    "                # Pulling elements\n",
    "                pulled_lst = lst[random_lst_selector]\n",
    "                pulled_element = pulled_lst[random_element_selector]\n",
    "                \n",
    "                # Saving combination\n",
    "                check_lst[random_lst_selector] = 1\n",
    "                # \n",
    "                # Storing results\n",
    "                output.append(pulled_element)\n",
    "            \n",
    "            # Output\n",
    "            if check_lst == control_lst:\n",
    "                final_password = ''.join(map(str, output))\n",
    "                \n",
    "                if len(final_password) < 6:\n",
    "                    print(f\"{final_password}, Weak password!\")\n",
    "                \n",
    "                elif len(final_password) > 6 and len(final_password) < 10:\n",
    "                    print(f\"{final_password}, Moderate password!\")\n",
    "                \n",
    "                else:\n",
    "                    print(f\"{final_password}, Strong password!\")  \n",
    "                                                            \n",
    "            else:\n",
    "                check_lst = [0] * 4\n",
    "                output = []"
   ]
  },
  {
   "cell_type": "markdown",
   "metadata": {},
   "source": [
    "### 1. b) Test your function here for"
   ]
  },
  {
   "cell_type": "code",
   "execution_count": 62,
   "metadata": {},
   "outputs": [
    {
     "name": "stdout",
     "output_type": "stream",
     "text": [
      "00%hJ)m, Moderate password!\n",
      "Password must be at least of length 4!\n",
      "Number of symbols must be a positive integer!\n",
      "l0n2T, Weak password!\n"
     ]
    }
   ],
   "source": [
    "### Test of function\n",
    "\n",
    "# 1\n",
    "length = 7\n",
    "special = True\n",
    "password_generator(length, special)\n",
    "\n",
    "# 2\n",
    "length = 3\n",
    "special = True\n",
    "password_generator(length, special)\n",
    "\n",
    "# 3\n",
    "length = 4.5\n",
    "special = True\n",
    "password_generator(length, special)\n",
    "\n",
    "# 4\n",
    "length = 5\n",
    "special = False\n",
    "password_generator(length, special)"
   ]
  },
  {
   "cell_type": "code",
   "execution_count": 64,
   "metadata": {},
   "outputs": [
    {
     "name": "stdout",
     "output_type": "stream",
     "text": [
      "M%e4$(g&SrV))uq3/%9%&XX6%yNL(y$eUA$(CVaG$Mi3b)O/U/j%g5c)&v96/73K)wsjW)8/I)m3&m/t)%5NAV7cK&O90gg1JS8XJEaoPL623%3v4(L)h&3G4T$9n7CO3M((K2&&55S/AcBcO$QcW$%1D/k0)MB04(8I8x)Dv&NEpNO4kl$f0(wN2x/N&q0VDB1m2y$X6&vh75J/fJ3%490(4)2$j$cGZg7h)h%&%9)/)6bOX$B/4aEZ44drg2F1MV&g(&/5t(3qDg$U(1sx$)$m&/l%j%/&dd2$iBMWN(hu0I2t0TLB%ufSi)(48d%&zd70y6u81T9&be10%(/01t8C309f2l)7JKCVTggEZ%&JS0kyvc7K%F/hSKbx)P)AH/R/0uc%KeHDln12$3ZlM47/xJ7Oyl6F0Gw(3ECFX//&5L)y%5hiy%WA&6)X$1%)f&)&&(Mlvsk)HLN/18f&R&H5/%&8hn%zO071&E7191563KlE3Kj0AB&JP)/2BG&/Gv)&($46HeDA9ie$3/)&(ifILZ$g%&dRN61/78$H1Bd25c4L//o56d94ZMste4tlO97JYE1p2g2IR5IUiac5J0WBacZfSk)&3()3(2r63&GiNo5%9T$I)xo(ric/D&8lO/qrvNS$$R%RN1Ka&)y0v/3/S&y(3KOnt%4b/(Bv2)A7bob(utA8VCiE5B/Wm($FjCp)$Ek9l58K)%f%68z%5C1q77O98)6qy9KL3(124YWP2f3/5X575C6J8Q/%C(6fF)G)rJ7/%Le(6FZl9103w3Lot8h&0h)8TEV$%d6)805%1W8/%S$l0&(2U1f)t9DeUSlG976/Q&OJ/9%Xo/j4$p)r9&W/5(eCl(9adirm3l8M%%35U)%)3q89$/y(94rpkr1$266RV8S)p2O1$8Ku)1)AJ5RJM4b65(/lri%nH%%k5t8(D1zs(nD%Cr($)2%68Y73)6k&/5(j7W(H9YQS&$($24NS%&EJ%nTcJvj&x4o3&6z&80Y%B7Y)549IrXUm(WQTjCfS%6cRr%MfG7R%8HFi5e97Unkht1M8svesq&0Wi0(4n&z(4&(2/3CP5)$&/VPdf$%(i6Z&l%T(j)0067GeSQ8Q4eevkDCAOO$&1w/uA%R%6Xz5eZzv0WP6uE(/P9x9$iQ)ikh5(5/lwR%279n$K(R/R&Gw1Q8NeT&omR//R/okW(oV(9)40W&0Sx9Bb%(jd$gdLm7qs7v2O4%7)onx)mUE3rI)U5fL/$&///z8527o4Ue4xl7Z2%66%%7A(so&$84L$%0(2(70(2/4&L$%7J/GqAz&cZ9wo$&61$MvxvHC5&7$da4$2U1T$/SY$/1i&hM)$16(o&6x3%k21W8x1YnI6IAckZPX8($qaY1&d&O%7QlRm//&O/gpg)(M&4G4yd()43/(P59Nh&3%wmM58)(lv$pP8/c%(fnU%2VkH$5/68%068L5%4%gd&8i2$7W6u941Q)goY4)e5kAb%KH&J3%0tWE3R4JeJ(&&d6((x%H()&S(Ms7j6Dd%HSf(FI/L1(7l)yUOURQ5hY)zj3q9/PFYeq%8(c943C%L()0n9%m8088/W)zh&PIs01Z$42G2//(P2Q(/p6GK67$2WO5(S48rP&$Zeh87D5%/6(T7o%i&/RFTz5U76/Q&21&n&9X&(1VTO4$%d2%3lK%6pX$ks/sZ(7VH4PB$nH(287$4K$826O507)/hY4I$KAK3DrdX(9wP/57/9Nb22b)6B6kv/DFm070SB5P47v/4U4Mk3I/487%Z45K7%sT0SQq4f)Nb(bw407n%5yI%e%nqrb1%4I)A/542/Nb$I3&64bj6$2%Gr%9&)j5W(vA1%yX7p$yHB/$76&54CXvn(/21$v%4g%y$Qq(5V2%N6/Io)Y&7F$O48&ZT)9609Z47Yv(Qy))%0a/t)Y(2xK%A/6vx3W(Y4$/YsM&%%)FNt/$fk&$%/Lh3($5IN3T$9lo$r$nm&(6Zo&7%$8D0C9%oVPTI3/v8ofOa44Pj18)%RT89$)N%/%4Hy8DT7L%%46LEYd(vT5FVP&41Rw%&a6(D/UGQtkM)kP02/613$Li78RT1/P7238&/HIlM)mR%m/1b2Y26ky%1$/6$TJpwqQ5MH%)5$93Nj1q7$wAE0zt/3uBG9$TeCkQ0M/o%1VE70OB2V3//B&RgC$9/ezeY)Y)213)rEC3)(N686r%2p3(Hi/yUbS5h%/nq//(D7/Y35&$1f3x$&8%Q2E9(dq%%yMTuP/2z)k$x(%62I1)H)fn5e1(8/LXyLLXn195$Qz)TCp9F4%ns99Uqj4N074(lS(u8&/1G7pzwD06dZd)7r%rqv/Od&4$5sb7/e2TR%&kIO44(P%6$pzPZk(6s$$1R6HbB%GmRY6B///0)y7jCG8$70(K&9eD(5)vA/37Y&(9d14&/(0GIwiFZeTlo)/406&88(VB$11F/EJ)L%U6k27C9f3Ouwxf18sOYf95))Zi/QALOE%1IOc94l1Y(q(7W1y$A$)0q28%X/322/Hl5SSD$TW$8)rl%n2$U(N&y1mn)&%G&5%a$wzOr)O03OY(c%D%/3&M1)ph(/5%qbJ4aC4&)0%6V%0005(1)%iW&iP9/KMx4fDpctI)5rrS)/2$&T%jx2&66T0EKiAy8/9xC071)t9Ph2m5GVgZ2%SPrct(55U4a/w/r4E1rxrRwZLGoZREw$$S6X0cV&($V8)z(5lcEQqf/63&)4e%V6206f2uL$XT%T9Cie9/M(%2%)(2&Q1%pcJNk6Os752ARM&333p9O7gPJ8/zIw&A8&(Xu%6V/4p/f8/fQ(8B/a9Q6EGElr/$eGPbl0D5/k/0q2ZG/VDF)Qugq07mW%HuMv&4w&VwAm(y&Nnj/1(R$231pw(U9sK03BN&1Z9n(VuTY42i$Xu)mXd0wwOuGkU&p/&%01G1W/wmf(Q3y6L&Xhih1)sH6(S8eNMQ&3C/N(f5QJJO$/02o)5V9P9UFX1%7CpI)%YC&q86C1N%T&vju(/1$)()%3pu93qu4g2&3Mpj1a(/$7cKN2)D&4vB571a/BKEa9%NEN2$4P0eFUg/v8p4&fZQY332V/Dj)8V5$/(z%&(cO3htR(e7Y1d%(X&qE%&5YZ1vXT/4$85v$NrZ)T%1Uv9h()Gu(s74jq4teY/3%)R3Z5S&TSwkOE3yX0W%7)64/is%%&S/%7UbaFYqHAy/(/K9Rm7kAR)2JS$P4d&)0f&eK$NZN0l&u(kO3AU&/)%DTvHTR/HO$&%Es&PE1T(b989$PD8bu$(IS$5mvemw&/0375dv7l(GG)y654We)5)mm0F0uT$252%&T$UG$b7&5e8hB6C&$7T2HC8S()&n%(62(kemH0L6B/0Uqr2S$20%(ES($&S/20Bx/16(C19/X3)86DW6CSOq/)s5(u0y2R)Ar(tORImo$(z(1j)GYW657Z2$Y&QZ(dz/&cQkQ%y1(1w&H7C/$%$kxfufyGu5%3Rq))iPUYm$/j$a35)o6hOXSDW%NJk8ha1O&k4)3E&d%)19%4(/h$52R&&(7oIH9/Ae64/QTy3NkJb&DN8B3QU12L2)O3/5DB(8zMUA(M&m&pT6Q8Cnf$GI1&f)f&mI3t&0U%5y4S34t3JC$&3/3Z%y3(w%MVb3()&(&qCD&x1PZ/G)6/SbKA1(&c/n9L3NmS9C9wT1hGZt$(&bnCy57(gNkc59A%06m2OM/3$Z7e729)4EF0490910(GN9h(()oNyu%V$oC)N1/(sUJ5A/1&6jjuC2%WG)(q9t&WZ5&)p4K44X$79J%eJG0A3apK9wE8CfQ/YV/5)DM8z)EI)rB(9ls(rY&//%i6O85gj4Y&A/&QhrnrW84f(C2y3$uO9q$5/LVvExIQ$$w9)b/U&v&i28tZS$1$wq&vvkS%Ts%slxZz(p(ZDWYoB%H%$(g3&4XF(mvqk0z1E$0s5Ry&32(&ZDJy$le(0G3C$Nhd)3%o5(/VF7h&8p4)&/ydL5szkr854w, Strong password!\n"
     ]
    }
   ],
   "source": [
    "# 5\n",
    "length = 4000\n",
    "special = True\n",
    "password_generator(length, special)"
   ]
  },
  {
   "cell_type": "markdown",
   "metadata": {},
   "source": [
    "### 2. a) Excercise: Gamma vs. Normal distribution (3 points):\n",
    "\n",
    "In this exercise you need to demonstrate that if a random variable $X$ is ${\\Gamma}$-distributed with shape parameter $a$ and scale parameter $b$, then for $a \\to \\infty$  $X \\overset{d}{\\rightarrow} \\mathcal{N} (ab,ab^2)$ if $a > b$.\n",
    "\n",
    "To this end, write a function that samples and returns $N$ observations from the ${\\Gamma}$ distribution with with shape parameter $a$ and scale parameter $b$. The function's input shall be $a$, $b$ and N."
   ]
  },
  {
   "cell_type": "code",
   "execution_count": 126,
   "metadata": {},
   "outputs": [],
   "source": [
    "import random\n",
    "import math\n",
    "import numpy as np #equivalent to built in r-functions"
   ]
  },
  {
   "cell_type": "code",
   "execution_count": 135,
   "metadata": {},
   "outputs": [],
   "source": [
    "# Setting parameters for Gamma distribution\n",
    "alpha_shape = 2\n",
    "beta_scale = 1\n",
    "N_size = 10"
   ]
  },
  {
   "cell_type": "code",
   "execution_count": 159,
   "metadata": {},
   "outputs": [
    {
     "data": {
      "text/plain": [
       "array([2.31183435, 4.88355106, 1.7442523 , 4.48640732, 0.80150318,\n",
       "       1.08364574, 0.95920612, 0.26474428, 0.96017614, 1.34606687])"
      ]
     },
     "execution_count": 159,
     "metadata": {},
     "output_type": "execute_result"
    }
   ],
   "source": [
    "# Generating random numbers (easy way)\n",
    "np.random.seed(28)\n",
    "sample = np.random.gamma(shape= alpha_shape, scale= beta_scale, size=N_size)\n",
    "sample"
   ]
  },
  {
   "cell_type": "code",
   "execution_count": 161,
   "metadata": {},
   "outputs": [],
   "source": [
    "# Generating random numbers with Inverse transformation method\n",
    "\n",
    "def gamma_inverse_tranformation():\n",
    "    print(\"hello\")\n"
   ]
  },
  {
   "cell_type": "code",
   "execution_count": null,
   "metadata": {},
   "outputs": [],
   "source": []
  },
  {
   "cell_type": "markdown",
   "metadata": {},
   "source": [
    "Plot the resulting observations from the ${\\Gamma}$ distribution using histograms with Scott breaks for $a$ = c(1, 5, 10, 50, 100) and $b$ = 1, N = 5000 in a 3x2 plot window and add the respective limiting Normal density for comparison. Choose a meaningful title, label the axes and add a legend to your plot."
   ]
  },
  {
   "cell_type": "code",
   "execution_count": null,
   "metadata": {},
   "outputs": [],
   "source": []
  },
  {
   "cell_type": "markdown",
   "metadata": {},
   "source": [
    "###  b) Slutsky's theorems\n",
    "\n",
    "Now assume that you observe $X_n \\sim \\Gamma(a,b)$ for $a = c(1, 5, 10, 50, 100)$ and $b = 1$ as well as $Y_n \\sim \\mathcal{N}\\left(\\mu, 4\\sigma^2\\sqrt{n^{-5}}\\right)$ where $\\mu = 3.5$ and $\\sigma = 7$. Verify that following part of Slutsky's theorems holds with increasing values of $a$ : 2. $X_n \\cdot Y_n \\overset{d}{\\rightarrow} X\\cdot c$. Do this with the help of Monte Carlo simulations and a corresponding 3x2 plot window. Choose $N_{MC} = 1000$, $n = 1000$.\n",
    "Hint: Remember that $X \\overset{d}{\\rightarrow} \\mathcal{N} (ab,ab^2)$ for increasing values of $a$."
   ]
  },
  {
   "cell_type": "code",
   "execution_count": null,
   "metadata": {},
   "outputs": [],
   "source": []
  },
  {
   "cell_type": "markdown",
   "metadata": {},
   "source": [
    "# 1. Inverse transformation method\n",
    "\n",
    "If the univariate continuous random variable X has a cumulative distribution function $F_X$, then $Y=F_X(X)$ is a standard uniform random variable. Conversely, if Y has a uniform distribution on [0, 1] and if X has an invertible cumulative distribution $F_{X}$, then the random variable $F_{X}^{{-1}}(Y)$ has the same distribution as X. Note that $Q:=F_X^{-1}$ is the quantile function.\n",
    "\n",
    "\n",
    "Assume X follows an exponential distribution. Draw a sample Y from the standard uniform distribution and use the theorem above to create an exponential distributed sample X based on Y. Visualize your results for different rates ($\\lambda\\in\\{0.01,0.1,1,10\\}$) in one graph with four subplots. To this end use 1000 Monte-Carlo-replications.\n"
   ]
  }
 ],
 "metadata": {
  "kernelspec": {
   "display_name": "Python 3",
   "language": "python",
   "name": "python3"
  },
  "language_info": {
   "codemirror_mode": {
    "name": "ipython",
    "version": 3
   },
   "file_extension": ".py",
   "mimetype": "text/x-python",
   "name": "python",
   "nbconvert_exporter": "python",
   "pygments_lexer": "ipython3",
   "version": "3.11.0"
  }
 },
 "nbformat": 4,
 "nbformat_minor": 2
}
