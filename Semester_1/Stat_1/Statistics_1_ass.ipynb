{
 "cells": [
  {
   "cell_type": "markdown",
   "metadata": {},
   "source": [
    "### Exercise 1: a) Exercise: Password generator (3 Points)\n",
    "\n",
    "You are asked to write a function that creates random passwords. The function must have two arguments:\n",
    "1. length - number of symbols used in the password, it should be 4 by default if no value is specified.\n",
    "2. special - a TRUE/FALSE boolean that is TRUE if special characters like \"$\" are included, it should be TRUE by default, if no value is specified.\n",
    "\n",
    "The password can be made of \n",
    "- lower case letters, \"a\", \"b\",...,\"z\" (there are 26 possibilities)\n",
    "- upper case letters, \"A\", \"B\",...,\"Z\" (there are 26 possibilities)\n",
    "- numbers, \"0\", \"1\",...,\"9\" (there are 10 possibilities)\n",
    "- and (if allowed) special characters which are: \"$\", \"%\", \"&\", \"/\", \"(\", \")\" (there are 6 possibilities)\n",
    "\n",
    "Further, the password is supposed to have at least one of each: lower case letter, upper case letter, number and if allowed special character. \n",
    "Apart from that, at each position the password should have an equal probability to draw one of the 68 symbols (62 if special characters not allowed).\n",
    "\n",
    "Additionally, \n",
    "3. If \"length\" in the function argument is less than 4, return: \"Password must be at least of length 4!\"\n",
    "4. If \"length\" in the function argument is not an integer, return: \"Number of symbols must be a positive integer!\"\n",
    "\n",
    "Last,\n",
    "5. If length of the password is <6, the function should print: \"Weak password!\"\n",
    "6. If length of the password is >6 and <10, the function should print: \"Moderate password!\"\n",
    "7. If length of the password is >10, the function should print: \"Strong password!\"\n",
    "\n",
    "8. The function should return the password as one single character, i.e. merging the drawn symbols in one character.\n",
    "\n",
    "Make sure your function fulfills all needed conditions by testing a few variations!"
   ]
  },
  {
   "cell_type": "code",
   "execution_count": 2,
   "metadata": {},
   "outputs": [],
   "source": [
    "import random"
   ]
  },
  {
   "cell_type": "code",
   "execution_count": 3,
   "metadata": {},
   "outputs": [],
   "source": [
    "# My four containers\n",
    "letters_lst =[\"a\",\"b\",\"c\",\"d\",\"e\",\"f\",\"g\",\"h\",\"i\",\"j\",\"k\",\"l\",\"m\",\"n\",\"o\",\"p\",\"q\",\"r\",\"s\",\"t\",\"u\",\"v\",\"w\",\"x\",\"y\",\"z\"]\n",
    "letters_upper_lst = [letters_lst.upper() for letters_lst in letters_lst]\n",
    "numbers_lst = list(range(0,10))\n",
    "specials_lst = [\"$\", \"%\", \"&\", \"/\", \"(\", \")\"]\n",
    "\n",
    "\n",
    "# Joint List for equal probability\n",
    "lst = [letters_lst, letters_upper_lst, numbers_lst, specials_lst]"
   ]
  },
  {
   "cell_type": "code",
   "execution_count": 15,
   "metadata": {},
   "outputs": [
    {
     "name": "stdout",
     "output_type": "stream",
     "text": [
      "Lj5(\n"
     ]
    }
   ],
   "source": [
    "# Check boxes\n",
    "output = []\n",
    "check_lst = [0] * 4\n",
    "control_lst = [1] * 4\n",
    "\n",
    "length = 4\n",
    "\n",
    "while check_lst != control_lst:\n",
    "    for x in range(length):\n",
    "        # Randomized seed\n",
    "        number = random.randrange(0, len(lst))\n",
    "        random_lst_selector = number\n",
    "        max_lst_length = len(lst[random_lst_selector])\n",
    "        random_element_selector = random.randrange(0, max_lst_length)\n",
    "        \n",
    "        # Pulling elements\n",
    "        pulled_lst = lst[random_lst_selector]\n",
    "        pulled_element = pulled_lst[random_element_selector]\n",
    "        \n",
    "        # Saving combination\n",
    "        check_lst[random_lst_selector] = 1\n",
    "        # \n",
    "        # Storing results\n",
    "        output.append(pulled_element)\n",
    "    \n",
    "    # Output\n",
    "    if check_lst == control_lst:\n",
    "        final_password = ''.join(map(str, output))\n",
    "        print(final_password)\n",
    "        \n",
    "    else:\n",
    "        check_lst = [0] * 4\n",
    "        output = []"
   ]
  },
  {
   "cell_type": "code",
   "execution_count": 50,
   "metadata": {},
   "outputs": [],
   "source": [
    "# Building Function with Boolean check\n",
    "\n",
    "def password_generator(lenght, special):\n",
    "    \n",
    "    # Input check\n",
    "    if type(lenght) is not int:\n",
    "        print(f\"Number of symbols must be a positive integer!\")\n",
    "        return\n",
    "    \n",
    "    elif lenght < 4:\n",
    "        print(\"Password must be at least of length 4!\")\n",
    "        return\n",
    "    \n",
    "    else:    \n",
    "        # Containers with elementss\n",
    "        letters_lst =[\"a\",\"b\",\"c\",\"d\",\"e\",\"f\",\"g\",\"h\",\"i\",\"j\",\"k\",\"l\",\"m\",\"n\",\"o\",\"p\",\"q\",\"r\",\"s\",\"t\",\"u\",\"v\",\"w\",\"x\",\"y\",\"z\"]\n",
    "        letters_upper_lst = [letters_lst.upper() for letters_lst in letters_lst]\n",
    "        numbers_lst = list(range(0,10))\n",
    "        specials_lst = [\"$\", \"%\", \"&\", \"/\", \"(\", \")\"]\n",
    "        \n",
    "        \n",
    "        # Checking if special characters allowed\n",
    "        if special == False:\n",
    "            lst = [letters_lst, letters_upper_lst, numbers_lst]\n",
    "        else:\n",
    "            lst = [letters_lst, letters_upper_lst, numbers_lst, specials_lst]\n",
    "        \n",
    "        \n",
    "        # Lists to verify & store output\n",
    "        output = []\n",
    "        check_lst = [0] * len(lst)\n",
    "        control_lst = [1] * len(lst)\n",
    "        \n",
    "\n",
    "        while check_lst != control_lst:\n",
    "            for x in range(lenght):\n",
    "                # Randomized seed\n",
    "                number = random.randrange(0, len(lst))\n",
    "                random_lst_selector = number\n",
    "                max_lst_length = len(lst[random_lst_selector])\n",
    "                random_element_selector = random.randrange(0, max_lst_length)\n",
    "                \n",
    "                # Pulling elements\n",
    "                pulled_lst = lst[random_lst_selector]\n",
    "                pulled_element = pulled_lst[random_element_selector]\n",
    "                \n",
    "                # Saving combination\n",
    "                check_lst[random_lst_selector] = 1\n",
    "                # \n",
    "                # Storing results\n",
    "                output.append(pulled_element)\n",
    "            \n",
    "            # Output\n",
    "            if check_lst == control_lst:\n",
    "                final_password = ''.join(map(str, output))\n",
    "                \n",
    "                if len(final_password) < 6:\n",
    "                    print(f\"{final_password}, Weak password!\")\n",
    "                \n",
    "                elif len(final_password) > 6 and len(final_password) < 10:\n",
    "                    print(f\"{final_password}, Moderate password!\")\n",
    "                \n",
    "                else:\n",
    "                    print(f\"{final_password}, Strong password!\")  \n",
    "                                                            \n",
    "            else:\n",
    "                check_lst = [0] * 4\n",
    "                output = []"
   ]
  },
  {
   "cell_type": "markdown",
   "metadata": {},
   "source": [
    "### 1. b) Test your function here for"
   ]
  },
  {
   "cell_type": "code",
   "execution_count": 62,
   "metadata": {},
   "outputs": [
    {
     "name": "stdout",
     "output_type": "stream",
     "text": [
      "00%hJ)m, Moderate password!\n",
      "Password must be at least of length 4!\n",
      "Number of symbols must be a positive integer!\n",
      "l0n2T, Weak password!\n"
     ]
    }
   ],
   "source": [
    "### Test of function\n",
    "\n",
    "# 1\n",
    "length = 7\n",
    "special = True\n",
    "password_generator(length, special)\n",
    "\n",
    "# 2\n",
    "length = 3\n",
    "special = True\n",
    "password_generator(length, special)\n",
    "\n",
    "# 3\n",
    "length = 4.5\n",
    "special = True\n",
    "password_generator(length, special)\n",
    "\n",
    "# 4\n",
    "length = 5\n",
    "special = False\n",
    "password_generator(length, special)"
   ]
  },
  {
   "cell_type": "code",
   "execution_count": 61,
   "metadata": {},
   "outputs": [
    {
     "name": "stdout",
     "output_type": "stream",
     "text": [
      "g)7qX55ubWp08ycsDPR%V6rwax3&2sn6cW&5pXt7(10535ck)(Z6/bK&B42(j1BIIZs%3XHx%9bM07iIh$//b4/sa6%&m43UmYTA, Strong password!\n"
     ]
    }
   ],
   "source": [
    "# 5\n",
    "length = 100\n",
    "special = True\n",
    "password_generator(length, special)"
   ]
  }
 ],
 "metadata": {
  "kernelspec": {
   "display_name": "Python 3",
   "language": "python",
   "name": "python3"
  },
  "language_info": {
   "codemirror_mode": {
    "name": "ipython",
    "version": 3
   },
   "file_extension": ".py",
   "mimetype": "text/x-python",
   "name": "python",
   "nbconvert_exporter": "python",
   "pygments_lexer": "ipython3",
   "version": "3.11.0"
  }
 },
 "nbformat": 4,
 "nbformat_minor": 2
}
